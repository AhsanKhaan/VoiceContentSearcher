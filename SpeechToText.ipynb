{
 "cells": [
  {
   "cell_type": "code",
   "execution_count": 26,
   "metadata": {},
   "outputs": [],
   "source": [
    "import speech_recognition as sr\n",
    "from glob import glob1\n",
    "import numpy as np"
   ]
  },
  {
   "cell_type": "markdown",
   "metadata": {},
   "source": [
    "# DECLEARATIONS"
   ]
  },
  {
   "cell_type": "code",
   "execution_count": 44,
   "metadata": {},
   "outputs": [],
   "source": [
    "wav_destination=\"C://Users//Dell//FYP//wavfile//\"\n",
    "wav_file_counter=len(glob1(wav_destination,\"*.wav\"))\n",
    "txt_in_files=[]"
   ]
  },
  {
   "cell_type": "code",
   "execution_count": 45,
   "metadata": {},
   "outputs": [
    {
     "name": "stdout",
     "output_type": "stream",
     "text": [
      "Text: hello this is Shahrukh my name is Sharon what about you\n",
      "Text: Taj Mahal was built by Emperor Shah Jahan in Agra India\n",
      "Text: Sare kahan ja rahe ho aap hello my name is and I am doing some sound recording I am using laptop and also Google for this purpose\n",
      "Text: hello my name is ok you are shaadi\n",
      "Text: number is Waqt band hai koshish kijiye Your number is dad is power off please try again later\n"
     ]
    }
   ],
   "source": [
    "for index in range(1,wav_file_counter+1):\n",
    "    \n",
    "    r = sr.Recognizer()\n",
    "    file_path=wav_destination+\"sample\"+str(index)+\".wav\"\n",
    "    file_name=\"sample\"+str(index)+\".wav\"\n",
    "    \n",
    "    \n",
    "    with sr.AudioFile(file_path) as source:\n",
    "        audio = r.record(source)\n",
    "        try:\n",
    "            txt = r.recognize_google(audio)\n",
    "            txt_in_files.append((file_name,txt))\n",
    "            print(\"Text: \"+txt)\n",
    "        except Exception as e:\n",
    "            print(\"Exception: \"+str(e))"
   ]
  },
  {
   "cell_type": "code",
   "execution_count": 46,
   "metadata": {},
   "outputs": [
    {
     "data": {
      "text/plain": [
       "[('sample1.wav', 'hello this is Shahrukh my name is Sharon what about you'),\n",
       " ('sample2.wav', 'Taj Mahal was built by Emperor Shah Jahan in Agra India'),\n",
       " ('sample3.wav',\n",
       "  'Sare kahan ja rahe ho aap hello my name is and I am doing some sound recording I am using laptop and also Google for this purpose'),\n",
       " ('sample4.wav', 'hello my name is ok you are shaadi'),\n",
       " ('sample5.wav',\n",
       "  'number is Waqt band hai koshish kijiye Your number is dad is power off please try again later')]"
      ]
     },
     "execution_count": 46,
     "metadata": {},
     "output_type": "execute_result"
    }
   ],
   "source": [
    "txt_in_files"
   ]
  },
  {
   "cell_type": "code",
   "execution_count": null,
   "metadata": {},
   "outputs": [],
   "source": [
    "r = sr.Recognizer()\n",
    "    file_path=wav_destination+\"sample\"+str(index)+\".wav\"\n",
    "    file_name=\"sample\"+str(index)+\".wav\"\n",
    "    \n",
    "    \n",
    "    with sr.Microphone(file_path) as source:\n",
    "        audio = r.record(source)\n",
    "        try:\n",
    "            txt = r.recognize_google(audio)\n",
    "            txt_in_files.append((file_name,txt))\n",
    "            print(\"Text: \"+txt)\n",
    "        except Exception as e:\n",
    "            print(\"Exception: \"+str(e))"
   ]
  }
 ],
 "metadata": {
  "kernelspec": {
   "display_name": "Python 3",
   "language": "python",
   "name": "python3"
  },
  "language_info": {
   "codemirror_mode": {
    "name": "ipython",
    "version": 3
   },
   "file_extension": ".py",
   "mimetype": "text/x-python",
   "name": "python",
   "nbconvert_exporter": "python",
   "pygments_lexer": "ipython3",
   "version": "3.7.3"
  }
 },
 "nbformat": 4,
 "nbformat_minor": 2
}
