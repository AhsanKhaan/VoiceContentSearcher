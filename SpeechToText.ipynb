{
 "cells": [
  {
   "cell_type": "code",
   "execution_count": 1,
   "metadata": {},
   "outputs": [],
   "source": [
    "import speech_recognition as sr\n",
    "from glob import glob1\n",
    "import numpy as np\n",
    "from py_aho_corasick import py_aho_corasick as Algo\n",
    "from colorama import Fore,Back,Style \n"
   ]
  },
  {
   "cell_type": "markdown",
   "metadata": {},
   "source": [
    "# DECLEARATIONS"
   ]
  },
  {
   "cell_type": "code",
   "execution_count": 2,
   "metadata": {},
   "outputs": [],
   "source": [
    "wav_destination=\"C://Users//Dell//FYP//wavfile//\"\n",
    "wav_file_counter=len(glob1(wav_destination,\"*.wav\"))\n",
    "txt_in_files=[]"
   ]
  },
  {
   "cell_type": "code",
   "execution_count": 4,
   "metadata": {
    "scrolled": true
   },
   "outputs": [
    {
     "name": "stdout",
     "output_type": "stream",
     "text": [
      "Text: hello this is Shahrukh my name is Sharon what about you\n",
      "Text: Taj Mahal was built by Emperor Shah Jahan in Agra India\n",
      "Text: Sare kahan ja rahe ho aap hello my name is Sarah and I am doing some sound recording I am using laptop and also Google for this purpose\n",
      "Text: hello my name is ok you are shaadi\n",
      "Text: number is Waqt band hai koshish kijiye Your number is dad is power off please try again later\n"
     ]
    }
   ],
   "source": [
    "for index in range(1,wav_file_counter+1):\n",
    "    \n",
    "    r = sr.Recognizer()\n",
    "    file_path=wav_destination+\"sample\"+str(index)+\".wav\"\n",
    "    file_name=\"sample\"+str(index)+\".wav\"\n",
    "    \n",
    "    \n",
    "    with sr.AudioFile(file_path) as source:\n",
    "        audio = r.record(source)\n",
    "        try:\n",
    "            txt = r.recognize_google(audio)\n",
    "            txt_in_files.append((file_name,txt))\n",
    "            print(\"Text: \"+txt)\n",
    "        except Exception as e:\n",
    "            print(\"Exception: \"+str(e))"
   ]
  },
  {
   "cell_type": "code",
   "execution_count": 5,
   "metadata": {},
   "outputs": [
    {
     "data": {
      "text/plain": [
       "[('sample1.wav', 'hello this is Shahrukh my name is Sharon what about you'),\n",
       " ('sample2.wav', 'Taj Mahal was built by Emperor Shah Jahan in Agra India'),\n",
       " ('sample3.wav',\n",
       "  'Sare kahan ja rahe ho aap hello my name is Sarah and I am doing some sound recording I am using laptop and also Google for this purpose'),\n",
       " ('sample4.wav', 'hello my name is ok you are shaadi'),\n",
       " ('sample5.wav',\n",
       "  'number is Waqt band hai koshish kijiye Your number is dad is power off please try again later')]"
      ]
     },
     "execution_count": 5,
     "metadata": {},
     "output_type": "execute_result"
    }
   ],
   "source": [
    "txt_in_files"
   ]
  },
  {
   "cell_type": "markdown",
   "metadata": {},
   "source": [
    "# Microphone for audio to txt searching"
   ]
  },
  {
   "cell_type": "code",
   "execution_count": 6,
   "metadata": {},
   "outputs": [
    {
     "name": "stdout",
     "output_type": "stream",
     "text": [
      "You said: band hai koshish ki\n"
     ]
    }
   ],
   "source": [
    "r = sr.Recognizer()\n",
    "with sr.Microphone(device_index=1) as source:           # use the default microphone as the audio source\n",
    "    r.adjust_for_ambient_noise(source)\n",
    "    audio = r.listen(source,phrase_time_limit=10)       #phrase_time_limit set the max time recording to 10 seconds only      # listen for the first phrase and extract it into audio data\n",
    "    \n",
    "try:\n",
    "    in_audio=r.recognize_google(audio)\n",
    "    print(\"You said: \" + in_audio)    # recognize speech using Google Speech Recognition\n",
    "except LookupError:                            # speech is unintelligible\n",
    "    print(\"Could not understand audio\")\n",
    "except sr.UnknownValueError:\n",
    "    print(\"Google Speech Recognition could not understand audio\")\n",
    "except sr.RequestError as e:\n",
    "    print(\"Could not request results from Google Speech Recognition service; {0}\".format(e))"
   ]
  },
  {
   "cell_type": "code",
   "execution_count": 149,
   "metadata": {},
   "outputs": [
    {
     "name": "stdout",
     "output_type": "stream",
     "text": [
      "['band', 'hai', 'koshish', 'ki']\n",
      "['hello', 'this', 'is', 'Shahrukh', 'my', 'name', 'is', 'Sharon', 'what', 'about', 'you']\n",
      "['Taj', 'Mahal', 'was', 'built', 'by', 'Emperor', 'Shah', 'Jahan', 'in', 'Agra', 'India']\n",
      "['Sare', 'kahan', 'ja', 'rahe', 'ho', 'aap', 'hello', 'my', 'name', 'is', 'Sarah', 'and', 'I', 'am', 'doing', 'some', 'sound', 'recording', 'I', 'am', 'using', 'laptop', 'and', 'also', 'Google', 'for', 'this', 'purpose']\n",
      "['hello', 'my', 'name', 'is', 'ok', 'you', 'are', 'shaadi']\n",
      "['number', 'is', 'Waqt', 'band', 'hai', 'koshish', 'kijiye', 'Your', 'number', 'is', 'dad', 'is', 'power', 'off', 'please', 'try', 'again', 'later']\n",
      "[3, 4, 5, 3, 4, 5, 3, 4, 5, 3, 4, 5]\n"
     ]
    }
   ],
   "source": [
    "'''\n",
    "mic_text_array=np.array(list(in_audio))\n",
    "for i in range(len(txt_in_files)):#for database/file audio loop \n",
    "    db_txt=np.array(txt_in_files[i])\n",
    "    db_index=np.arange(len(txt_in_files))\n",
    "    for j in range(len(txt_in_files[i])):#for  text save in db\n",
    "        for k in range(len(mic_text_array)):# loops through each element of input text\n",
    "            indexes=np.where(txt_in_files[i][j]==mic_text_array[k])\n",
    "            print(indexes)\n",
    "            if(k==len(mic_text_array)-1):\n",
    "                db_index[i]=indexes\n",
    "                print(db_index[i])\n",
    " '''\n",
    "\n",
    "global index\n",
    "global file_number\n",
    "\n",
    "mic_text_array=in_audio.split()\n",
    "\n",
    "for i in range(len(txt_in_files)):#for database/file audio loop \n",
    "    db_txt=list(txt_in_files[i][1].split())\n",
    "    \n",
    "    for subs in db_txt:\n",
    "        matched_txt=[x for x in mic_text_array if x==subs]\n",
    "        if matched_txt!=[]:\n",
    "            \n",
    "            for x in matched_txt:\n",
    "                global index\n",
    "                global file_number\n",
    "                file_number=i\n",
    "                index+=[db_txt.index(x)]\n",
    "                \n",
    "                \n",
    "print(index)"
   ]
  },
  {
   "cell_type": "code",
   "execution_count": 162,
   "metadata": {},
   "outputs": [],
   "source": [
    "unique_index=np.unique(index)"
   ]
  },
  {
   "cell_type": "code",
   "execution_count": 178,
   "metadata": {},
   "outputs": [
    {
     "name": "stdout",
     "output_type": "stream",
     "text": [
      "You said:band hai koshish ki\n",
      "text found at file:sample5.wav\n",
      "Text was:\u001b[1;30;47mnumber \u001b[1;30;47mis \u001b[1;30;47mWaqt \u001b[1;30;47m\u001b[1;30;43m band \u001b[1;30;47m\u001b[1;30;43m hai \u001b[1;30;47m\u001b[1;30;43m koshish \u001b[1;30;47mkijiye \u001b[1;30;47mYour \u001b[1;30;47mnumber \u001b[1;30;47mis \u001b[1;30;47mdad \u001b[1;30;47mis \u001b[1;30;47mpower \u001b[1;30;47moff \u001b[1;30;47mplease \u001b[1;30;47mtry \u001b[1;30;47magain \u001b[1;30;47mlater\n"
     ]
    }
   ],
   "source": [
    "print(\"You said:\"+in_audio)\n",
    "if index==[]:\n",
    "    print(\"Audio Not Found:\")\n",
    "else:\n",
    "    print(\"text found at file:\"+txt_in_files[file_number][0])\n",
    "    print(\"Text was:\"+listToString(found_list))"
   ]
  },
  {
   "cell_type": "code",
   "execution_count": 103,
   "metadata": {},
   "outputs": [
    {
     "name": "stdout",
     "output_type": "stream",
     "text": [
      "\u001b[1;30;43m band hai koshish ki\n"
     ]
    }
   ],
   "source": [
    "print(\"\\033[1;30;43m \"+in_audio)"
   ]
  },
  {
   "cell_type": "code",
   "execution_count": 152,
   "metadata": {},
   "outputs": [],
   "source": [
    "# Function to convert   \n",
    "def listToString(s):  \n",
    "    \n",
    "    # initialize an empty string \n",
    "    str1 = \" \" \n",
    "    \n",
    "    # return string   \n",
    "    return (str1.join(s)) \n",
    "        \n",
    " "
   ]
  },
  {
   "cell_type": "code",
   "execution_count": 176,
   "metadata": {},
   "outputs": [],
   "source": [
    "\n",
    "found_list=txt_in_files[file_number][1].split()\n",
    "for i in unique_index:\n",
    "    \n",
    "    found_list[i]=\"\\033[1;30;43m \"+found_list[i]\n",
    "\n",
    "for x in range(len(found_list)):\n",
    "    if \"\\\\033[1;30;43m\" in found_list:\n",
    "        continue\n",
    "    else:\n",
    "        found_list[x]=\"\\033[1;30;47m\"+found_list[x]\n",
    "    "
   ]
  },
  {
   "cell_type": "code",
   "execution_count": 177,
   "metadata": {},
   "outputs": [
    {
     "data": {
      "text/plain": [
       "['\\x1b[1;30;47mnumber',\n",
       " '\\x1b[1;30;47mis',\n",
       " '\\x1b[1;30;47mWaqt',\n",
       " '\\x1b[1;30;47m\\x1b[1;30;43m band',\n",
       " '\\x1b[1;30;47m\\x1b[1;30;43m hai',\n",
       " '\\x1b[1;30;47m\\x1b[1;30;43m koshish',\n",
       " '\\x1b[1;30;47mkijiye',\n",
       " '\\x1b[1;30;47mYour',\n",
       " '\\x1b[1;30;47mnumber',\n",
       " '\\x1b[1;30;47mis',\n",
       " '\\x1b[1;30;47mdad',\n",
       " '\\x1b[1;30;47mis',\n",
       " '\\x1b[1;30;47mpower',\n",
       " '\\x1b[1;30;47moff',\n",
       " '\\x1b[1;30;47mplease',\n",
       " '\\x1b[1;30;47mtry',\n",
       " '\\x1b[1;30;47magain',\n",
       " '\\x1b[1;30;47mlater']"
      ]
     },
     "execution_count": 177,
     "metadata": {},
     "output_type": "execute_result"
    }
   ],
   "source": [
    "found_list\n"
   ]
  },
  {
   "cell_type": "markdown",
   "metadata": {},
   "source": [
    "# Passed values as list in ahocrasik algorithm"
   ]
  },
  {
   "cell_type": "code",
   "execution_count": 64,
   "metadata": {},
   "outputs": [
    {
     "data": {
      "text/plain": [
       "'for i in range(len(txt_in_files)):\\n    #print(i)\\n    #print(txt_in_files[i][1])\\n    list_of_audio_txt=txt_in_files[i][1].split()# tokenize audio text to feed in finite automate machine of ahocorasik algo\\n    #print(list_of_audio_txt)\\n    # keywords and values\\n    key_val = list(enumerate(list_of_audio_txt))\\n    #print(key_val)\\n    key_val_list=[(element[1],element[0]) for element in key_val]\\n    print(key_val_list)\\n    A = Algo.Automaton(key_val_list)\\n     \\n    for idx,key,val in A.get_keywords_found(in_audio):\\n        print(A.get_keywords_found(in_audio))\\n        #print(dict(key_val_list)[key])\\n        #print(in_audio[idx:idx+len(key)])\\n        #assert in_audio[idx:idx+len(key)] == key\\n        #assert val == dict(key_val_list)[key]\\n        print(in_audio[idx:idx+len(key)])\\n        print(dict(key_val_list)[key])\\n        print(dict(key_val_list))\\n'"
      ]
     },
     "execution_count": 64,
     "metadata": {},
     "output_type": "execute_result"
    }
   ],
   "source": [
    "'''for i in range(len(txt_in_files)):\n",
    "    #print(i)\n",
    "    #print(txt_in_files[i][1])\n",
    "    list_of_audio_txt=txt_in_files[i][1].split()# tokenize audio text to feed in finite automate machine of ahocorasik algo\n",
    "    #print(list_of_audio_txt)\n",
    "    # keywords and values\n",
    "    key_val = list(enumerate(list_of_audio_txt))\n",
    "    #print(key_val)\n",
    "    key_val_list=[(element[1],element[0]) for element in key_val]\n",
    "    print(key_val_list)\n",
    "    A = Algo.Automaton(key_val_list)\n",
    "     \n",
    "    for idx,key,val in A.get_keywords_found(in_audio):\n",
    "        print(A.get_keywords_found(in_audio))\n",
    "        #print(dict(key_val_list)[key])\n",
    "        #print(in_audio[idx:idx+len(key)])\n",
    "        #assert in_audio[idx:idx+len(key)] == key\n",
    "        #assert val == dict(key_val_list)[key]\n",
    "        print(in_audio[idx:idx+len(key)])\n",
    "        print(dict(key_val_list)[key])\n",
    "        print(dict(key_val_list))\n",
    "'''"
   ]
  }
 ],
 "metadata": {
  "kernelspec": {
   "display_name": "Python 3",
   "language": "python",
   "name": "python3"
  },
  "language_info": {
   "codemirror_mode": {
    "name": "ipython",
    "version": 3
   },
   "file_extension": ".py",
   "mimetype": "text/x-python",
   "name": "python",
   "nbconvert_exporter": "python",
   "pygments_lexer": "ipython3",
   "version": "3.7.3"
  }
 },
 "nbformat": 4,
 "nbformat_minor": 2
}
