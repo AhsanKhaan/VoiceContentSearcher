{
 "cells": [
  {
   "cell_type": "code",
   "execution_count": 2,
   "metadata": {},
   "outputs": [],
   "source": [
    "import speech_recognition as sr\n",
    "from glob import glob1\n",
    "import numpy as np"
   ]
  },
  {
   "cell_type": "markdown",
   "metadata": {},
   "source": [
    "# DECLEARATIONS"
   ]
  },
  {
   "cell_type": "code",
   "execution_count": 2,
   "metadata": {},
   "outputs": [],
   "source": [
    "wav_destination=\"C://Users//Dell//FYP//wavfile//\"\n",
    "wav_file_counter=len(glob1(wav_destination,\"*.wav\"))\n",
    "txt_in_files=[]"
   ]
  },
  {
   "cell_type": "code",
   "execution_count": 3,
   "metadata": {},
   "outputs": [
    {
     "name": "stdout",
     "output_type": "stream",
     "text": [
      "Text: hello this is Shahrukh my name is Sharon what about you\n",
      "Text: Taj Mahal was built by Emperor Shah Jahan in Agra India\n",
      "Text: Sare kahan ja rahe ho aap hello my name is and I am doing some sound recording I am using laptop and also Google for this purpose\n",
      "Text: hello my name is sharif ok you are shaadi\n",
      "Text: number is Waqt band hai koshish kijiye Your number is dad is power off please try again later\n"
     ]
    }
   ],
   "source": [
    "for index in range(1,wav_file_counter+1):\n",
    "    \n",
    "    r = sr.Recognizer()\n",
    "    file_path=wav_destination+\"sample\"+str(index)+\".wav\"\n",
    "    file_name=\"sample\"+str(index)+\".wav\"\n",
    "    \n",
    "    \n",
    "    with sr.AudioFile(file_path) as source:\n",
    "        audio = r.record(source)\n",
    "        try:\n",
    "            txt = r.recognize_google(audio)\n",
    "            txt_in_files.append((file_name,txt))\n",
    "            print(\"Text: \"+txt)\n",
    "        except Exception as e:\n",
    "            print(\"Exception: \"+str(e))"
   ]
  },
  {
   "cell_type": "code",
   "execution_count": 4,
   "metadata": {},
   "outputs": [
    {
     "data": {
      "text/plain": [
       "[('sample1.wav', 'hello this is Shahrukh my name is Sharon what about you'),\n",
       " ('sample2.wav', 'Taj Mahal was built by Emperor Shah Jahan in Agra India'),\n",
       " ('sample3.wav',\n",
       "  'Sare kahan ja rahe ho aap hello my name is and I am doing some sound recording I am using laptop and also Google for this purpose'),\n",
       " ('sample4.wav', 'hello my name is sharif ok you are shaadi'),\n",
       " ('sample5.wav',\n",
       "  'number is Waqt band hai koshish kijiye Your number is dad is power off please try again later')]"
      ]
     },
     "execution_count": 4,
     "metadata": {},
     "output_type": "execute_result"
    }
   ],
   "source": [
    "txt_in_files"
   ]
  },
  {
   "cell_type": "markdown",
   "metadata": {},
   "source": [
    "# Microphone for audio to txt searching"
   ]
  },
  {
   "cell_type": "code",
   "execution_count": 15,
   "metadata": {},
   "outputs": [
    {
     "name": "stdout",
     "output_type": "stream",
     "text": [
      "You said spare time so I am going for a while at prayers please hold the opportunities and I will be right back after\n"
     ]
    }
   ],
   "source": [
    "r = sr.Recognizer()\n",
    "with sr.Microphone(device_index=1) as source:                # use the default microphone as the audio source\n",
    "    audio = r.listen(source,phrase_time_limit=10)             #phrase_time_limit set the max time recording to 10 seconds only      # listen for the first phrase and extract it into audio data\n",
    "    \n",
    "try:\n",
    "    print(\"You said \" + r.recognize_google(audio))    # recognize speech using Google Speech Recognition\n",
    "except LookupError:                            # speech is unintelligible\n",
    "    print(\"Could not understand audio\")\n",
    "except sr.UnknownValueError:\n",
    "    print(\"Google Speech Recognition could not understand audio\")\n",
    "except sr.RequestError as e:\n",
    "    print(\"Could not request results from Google Speech Recognition service; {0}\".format(e))"
   ]
  },
  {
   "cell_type": "code",
   "execution_count": null,
   "metadata": {},
   "outputs": [],
   "source": []
  }
 ],
 "metadata": {
  "kernelspec": {
   "display_name": "Python 3",
   "language": "python",
   "name": "python3"
  },
  "language_info": {
   "codemirror_mode": {
    "name": "ipython",
    "version": 3
   },
   "file_extension": ".py",
   "mimetype": "text/x-python",
   "name": "python",
   "nbconvert_exporter": "python",
   "pygments_lexer": "ipython3",
   "version": "3.7.3"
  }
 },
 "nbformat": 4,
 "nbformat_minor": 2
}
